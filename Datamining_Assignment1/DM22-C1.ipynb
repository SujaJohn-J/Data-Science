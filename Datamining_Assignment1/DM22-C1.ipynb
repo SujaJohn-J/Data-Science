{
 "cells": [
  {
   "cell_type": "code",
   "execution_count": 1,
   "id": "259d9684",
   "metadata": {},
   "outputs": [],
   "source": [
    "import pandas as pd\n",
    "import numpy as np\n",
    "import seaborn as snb\n",
    "import matplotlib.pyplot as plt\n",
    "from sklearn.cluster import KMeans\n",
    "from sklearn.cluster import Birch\n",
    "from sklearn.cluster import DBSCAN\n",
    "from sklearn.preprocessing import MinMaxScaler\n",
    "from sklearn import metrics\n",
    "%matplotlib inline"
   ]
  },
  {
   "cell_type": "markdown",
   "id": "9c453651",
   "metadata": {},
   "source": [
    "# Question No 1:"
   ]
  },
  {
   "cell_type": "markdown",
   "id": "d57d091a",
   "metadata": {},
   "source": [
    "1. Estimate the mean of x and y"
   ]
  },
  {
   "cell_type": "code",
   "execution_count": 2,
   "id": "00e17547",
   "metadata": {},
   "outputs": [
    {
     "name": "stdout",
     "output_type": "stream",
     "text": [
      "     xi    yi\n",
      "0   7.8  32.1\n",
      "1   7.3  32.6\n",
      "2   2.7  37.4\n",
      "3   2.0  38.3\n",
      "4   2.9  37.3\n",
      "5   3.7  36.5\n",
      "6   4.1  36.1\n",
      "7   4.3  35.8\n",
      "8   4.4  35.7\n",
      "9   4.3  35.7\n",
      "10  5.7  34.4\n",
      "11  4.6  35.5\n",
      "12  7.5  32.4\n",
      "13  9.6  30.2\n"
     ]
    }
   ],
   "source": [
    "df=pd.read_csv(\"data.csv\")# Read from a csv file\n",
    "print(df)"
   ]
  },
  {
   "cell_type": "code",
   "execution_count": 3,
   "id": "dce5dfbd",
   "metadata": {},
   "outputs": [
    {
     "name": "stdout",
     "output_type": "stream",
     "text": [
      "Mean of x i:5.064285714285715\n"
     ]
    }
   ],
   "source": [
    "# Calculate the mean of x ie x_dash\n",
    "x_dash=(round(df[\"xi\"].sum(),2))/len(df[\"xi\"])\n",
    "print('Mean of x i:{}'.format(x_dash))"
   ]
  },
  {
   "cell_type": "code",
   "execution_count": 4,
   "id": "149fcc4c",
   "metadata": {},
   "outputs": [
    {
     "name": "stdout",
     "output_type": "stream",
     "text": [
      "Mean of y i:35.0\n"
     ]
    }
   ],
   "source": [
    "# Calculate the mean of y ie y_dash\n",
    "y_dash=(round(df[\"yi\"].sum(),2))/len(df[\"yi\"])\n",
    "print('Mean of y i:{}'.format(y_dash))"
   ]
  },
  {
   "cell_type": "markdown",
   "id": "95df4c68",
   "metadata": {},
   "source": [
    "2. Calculate the covariance of x and y. and 3. Write an implementation with comments to calculate all results"
   ]
  },
  {
   "cell_type": "code",
   "execution_count": 5,
   "id": "f6f39cb8",
   "metadata": {},
   "outputs": [],
   "source": [
    "#initialize the 2 lists with null\n",
    "diff_y=[]\n",
    "diffsq_y=[]\n",
    "#Find yi-ybar value and (yi-ydash)^2 value\n",
    "for i in df[\"yi\"]:\n",
    "    diff_y.append(i-y_dash)\n",
    "    diffsq_y.append((i-y_dash)*(i-y_dash))\n",
    "#Append yi-ybar column to data frame df \n",
    "df[\"yi-ybar\"]=diff_y "
   ]
  },
  {
   "cell_type": "code",
   "execution_count": 6,
   "id": "8f8a30cb",
   "metadata": {},
   "outputs": [],
   "source": [
    "#initialize the 2 lists with null\n",
    "diff_x=[]\n",
    "diffsq_x=[]\n",
    "#Find xi-xbar value and (xi-dash)^2 value\n",
    "for i in df[\"xi\"]:\n",
    "    diff_x.append(i-x_dash)\n",
    "    diffsq_x.append((i-x_dash)*(i-x_dash))\n",
    "#Append xi-xbar (yi-ybar)^2  and (xi-xbar)^2 column to data frame df \n",
    "df[\"xi-xbar\"]=diff_x\n",
    "df[\"yi-ybarsq\"]=diffsq_y\n",
    "df[\"xi-xbarsq\"]=diffsq_x"
   ]
  },
  {
   "cell_type": "code",
   "execution_count": 7,
   "id": "01ddb617",
   "metadata": {},
   "outputs": [
    {
     "name": "stdout",
     "output_type": "stream",
     "text": [
      "     xi    yi  yi-ybar   xi-xbar  yi-ybarsq  xi-xbarsq    diff_xy\n",
      "0   7.8  32.1     -2.9  2.735714       8.41   7.484133  -7.933571\n",
      "1   7.3  32.6     -2.4  2.235714       5.76   4.998418  -5.365714\n",
      "2   2.7  37.4      2.4 -2.364286       5.76   5.589847  -5.674286\n",
      "3   2.0  38.3      3.3 -3.064286      10.89   9.389847 -10.112143\n",
      "4   2.9  37.3      2.3 -2.164286       5.29   4.684133  -4.977857\n",
      "5   3.7  36.5      1.5 -1.364286       2.25   1.861276  -2.046429\n",
      "6   4.1  36.1      1.1 -0.964286       1.21   0.929847  -1.060714\n",
      "7   4.3  35.8      0.8 -0.764286       0.64   0.584133  -0.611429\n",
      "8   4.4  35.7      0.7 -0.664286       0.49   0.441276  -0.465000\n",
      "9   4.3  35.7      0.7 -0.764286       0.49   0.584133  -0.535000\n",
      "10  5.7  34.4     -0.6  0.635714       0.36   0.404133  -0.381429\n",
      "11  4.6  35.5      0.5 -0.464286       0.25   0.215561  -0.232143\n",
      "12  7.5  32.4     -2.6  2.435714       6.76   5.932704  -6.332857\n",
      "13  9.6  30.2     -4.8  4.535714      23.04  20.572704 -21.771429\n"
     ]
    }
   ],
   "source": [
    "#Find the number of rows in column xi-xbar\n",
    "limit=df[\"xi-xbar\"].count()\n",
    "#Find (xi-xbar)*(yi-ybar)\n",
    "for i in range(1,limit):\n",
    "    diff_xy=df[\"xi-xbar\"]*df[\"yi-ybar\"]\n",
    "#Append (\"xi-xbar\")*(\"yi-ybar\") column to data frame df \n",
    "df[\"diff_xy\"]=diff_xy  \n",
    "print(df)"
   ]
  },
  {
   "cell_type": "code",
   "execution_count": 8,
   "id": "53e94b07",
   "metadata": {},
   "outputs": [
    {
     "name": "stdout",
     "output_type": "stream",
     "text": [
      "-5.192307692307692\n"
     ]
    }
   ],
   "source": [
    "#Calculate the covariance sigma xy \n",
    "sigmaxy=sum(df[\"diff_xy\"])/(df.shape[0]-1)\n",
    "print(sigmaxy)"
   ]
  },
  {
   "cell_type": "markdown",
   "id": "54626783",
   "metadata": {},
   "source": [
    "# Question No 2"
   ]
  },
  {
   "cell_type": "code",
   "execution_count": 9,
   "id": "e883117e",
   "metadata": {},
   "outputs": [
    {
     "data": {
      "text/plain": [
       "Unnamed: 0    0\n",
       "TV            0\n",
       "radio         0\n",
       "newspaper     0\n",
       "sales         0\n",
       "dtype: int64"
      ]
     },
     "execution_count": 9,
     "metadata": {},
     "output_type": "execute_result"
    }
   ],
   "source": [
    "#Read csv file to dataframe df\n",
    "df=pd.read_csv(\"Advertising.csv\")\n",
    "#check for null values\n",
    "df.isna().sum()"
   ]
  },
  {
   "cell_type": "code",
   "execution_count": 10,
   "id": "912f4796",
   "metadata": {},
   "outputs": [
    {
     "data": {
      "text/html": [
       "<div>\n",
       "<style scoped>\n",
       "    .dataframe tbody tr th:only-of-type {\n",
       "        vertical-align: middle;\n",
       "    }\n",
       "\n",
       "    .dataframe tbody tr th {\n",
       "        vertical-align: top;\n",
       "    }\n",
       "\n",
       "    .dataframe thead th {\n",
       "        text-align: right;\n",
       "    }\n",
       "</style>\n",
       "<table border=\"1\" class=\"dataframe\">\n",
       "  <thead>\n",
       "    <tr style=\"text-align: right;\">\n",
       "      <th></th>\n",
       "      <th>Unnamed: 0</th>\n",
       "      <th>TV</th>\n",
       "      <th>radio</th>\n",
       "      <th>newspaper</th>\n",
       "      <th>sales</th>\n",
       "    </tr>\n",
       "  </thead>\n",
       "  <tbody>\n",
       "    <tr>\n",
       "      <th>0</th>\n",
       "      <td>1</td>\n",
       "      <td>230.1</td>\n",
       "      <td>37.8</td>\n",
       "      <td>69.2</td>\n",
       "      <td>22.1</td>\n",
       "    </tr>\n",
       "    <tr>\n",
       "      <th>1</th>\n",
       "      <td>2</td>\n",
       "      <td>44.5</td>\n",
       "      <td>39.3</td>\n",
       "      <td>45.1</td>\n",
       "      <td>10.4</td>\n",
       "    </tr>\n",
       "    <tr>\n",
       "      <th>2</th>\n",
       "      <td>3</td>\n",
       "      <td>17.2</td>\n",
       "      <td>45.9</td>\n",
       "      <td>69.3</td>\n",
       "      <td>9.3</td>\n",
       "    </tr>\n",
       "    <tr>\n",
       "      <th>3</th>\n",
       "      <td>4</td>\n",
       "      <td>151.5</td>\n",
       "      <td>41.3</td>\n",
       "      <td>58.5</td>\n",
       "      <td>18.5</td>\n",
       "    </tr>\n",
       "    <tr>\n",
       "      <th>4</th>\n",
       "      <td>5</td>\n",
       "      <td>180.8</td>\n",
       "      <td>10.8</td>\n",
       "      <td>58.4</td>\n",
       "      <td>12.9</td>\n",
       "    </tr>\n",
       "  </tbody>\n",
       "</table>\n",
       "</div>"
      ],
      "text/plain": [
       "   Unnamed: 0     TV  radio  newspaper  sales\n",
       "0           1  230.1   37.8       69.2   22.1\n",
       "1           2   44.5   39.3       45.1   10.4\n",
       "2           3   17.2   45.9       69.3    9.3\n",
       "3           4  151.5   41.3       58.5   18.5\n",
       "4           5  180.8   10.8       58.4   12.9"
      ]
     },
     "execution_count": 10,
     "metadata": {},
     "output_type": "execute_result"
    }
   ],
   "source": [
    "df.head()"
   ]
  },
  {
   "cell_type": "code",
   "execution_count": 11,
   "id": "a87e952a",
   "metadata": {},
   "outputs": [
    {
     "data": {
      "text/html": [
       "<div>\n",
       "<style scoped>\n",
       "    .dataframe tbody tr th:only-of-type {\n",
       "        vertical-align: middle;\n",
       "    }\n",
       "\n",
       "    .dataframe tbody tr th {\n",
       "        vertical-align: top;\n",
       "    }\n",
       "\n",
       "    .dataframe thead th {\n",
       "        text-align: right;\n",
       "    }\n",
       "</style>\n",
       "<table border=\"1\" class=\"dataframe\">\n",
       "  <thead>\n",
       "    <tr style=\"text-align: right;\">\n",
       "      <th></th>\n",
       "      <th>Unnamed: 0</th>\n",
       "      <th>TV</th>\n",
       "      <th>radio</th>\n",
       "      <th>newspaper</th>\n",
       "      <th>sales</th>\n",
       "    </tr>\n",
       "  </thead>\n",
       "  <tbody>\n",
       "    <tr>\n",
       "      <th>195</th>\n",
       "      <td>196</td>\n",
       "      <td>38.2</td>\n",
       "      <td>3.7</td>\n",
       "      <td>13.8</td>\n",
       "      <td>7.6</td>\n",
       "    </tr>\n",
       "    <tr>\n",
       "      <th>196</th>\n",
       "      <td>197</td>\n",
       "      <td>94.2</td>\n",
       "      <td>4.9</td>\n",
       "      <td>8.1</td>\n",
       "      <td>9.7</td>\n",
       "    </tr>\n",
       "    <tr>\n",
       "      <th>197</th>\n",
       "      <td>198</td>\n",
       "      <td>177.0</td>\n",
       "      <td>9.3</td>\n",
       "      <td>6.4</td>\n",
       "      <td>12.8</td>\n",
       "    </tr>\n",
       "    <tr>\n",
       "      <th>198</th>\n",
       "      <td>199</td>\n",
       "      <td>283.6</td>\n",
       "      <td>42.0</td>\n",
       "      <td>66.2</td>\n",
       "      <td>25.5</td>\n",
       "    </tr>\n",
       "    <tr>\n",
       "      <th>199</th>\n",
       "      <td>200</td>\n",
       "      <td>232.1</td>\n",
       "      <td>8.6</td>\n",
       "      <td>8.7</td>\n",
       "      <td>13.4</td>\n",
       "    </tr>\n",
       "  </tbody>\n",
       "</table>\n",
       "</div>"
      ],
      "text/plain": [
       "     Unnamed: 0     TV  radio  newspaper  sales\n",
       "195         196   38.2    3.7       13.8    7.6\n",
       "196         197   94.2    4.9        8.1    9.7\n",
       "197         198  177.0    9.3        6.4   12.8\n",
       "198         199  283.6   42.0       66.2   25.5\n",
       "199         200  232.1    8.6        8.7   13.4"
      ]
     },
     "execution_count": 11,
     "metadata": {},
     "output_type": "execute_result"
    }
   ],
   "source": [
    "df.tail()"
   ]
  },
  {
   "cell_type": "code",
   "execution_count": 12,
   "id": "c194af37",
   "metadata": {},
   "outputs": [],
   "source": [
    "df=df.drop(['Unnamed: 0'],axis=1)"
   ]
  },
  {
   "cell_type": "code",
   "execution_count": 13,
   "id": "82537989",
   "metadata": {},
   "outputs": [
    {
     "data": {
      "text/plain": [
       "(200, 4)"
      ]
     },
     "execution_count": 13,
     "metadata": {},
     "output_type": "execute_result"
    }
   ],
   "source": [
    "df.shape"
   ]
  },
  {
   "cell_type": "code",
   "execution_count": 14,
   "id": "87d60bc2",
   "metadata": {},
   "outputs": [
    {
     "data": {
      "text/plain": [
       "<AxesSubplot:>"
      ]
     },
     "execution_count": 14,
     "metadata": {},
     "output_type": "execute_result"
    },
    {
     "data": {
      "image/png": "[encoded data removed]",
      "text/plain": [
       "<Figure size 432x288 with 2 Axes>"
      ]
     },
     "metadata": {
      "needs_background": "light"
     },
     "output_type": "display_data"
    }
   ],
   "source": [
    "#To find correlation\n",
    "import seaborn as sns\n",
    "sns.heatmap(df.corr(), annot = True, fmt='.2g',cmap= 'coolwarm')"
   ]
  },
  {
   "cell_type": "code",
   "execution_count": 15,
   "id": "885c7914",
   "metadata": {},
   "outputs": [
    {
     "data": {
      "text/plain": [
       "(200, 4)"
      ]
     },
     "execution_count": 15,
     "metadata": {},
     "output_type": "execute_result"
    }
   ],
   "source": [
    "#Find rows and colunms of df\n",
    "df.shape"
   ]
  },
  {
   "cell_type": "code",
   "execution_count": 16,
   "id": "38dc06d9",
   "metadata": {},
   "outputs": [],
   "source": [
    "from sklearn.linear_model import LinearRegression"
   ]
  },
  {
   "cell_type": "code",
   "execution_count": 17,
   "id": "8ddc5a10",
   "metadata": {},
   "outputs": [],
   "source": [
    "# x value as Tv and y value as sales\n",
    "x=df[\"TV\"].to_numpy().reshape(-1,1)\n",
    "y=df[\"sales\"].to_numpy()\n",
    "#Build linear reression model\n",
    "model = LinearRegression().fit(x , y)"
   ]
  },
  {
   "cell_type": "code",
   "execution_count": 18,
   "id": "6eabad42",
   "metadata": {},
   "outputs": [],
   "source": [
    "#Find the coefficient \n",
    "b=model.coef_[0]"
   ]
  },
  {
   "cell_type": "code",
   "execution_count": 19,
   "id": "b0e2ecb9",
   "metadata": {},
   "outputs": [],
   "source": [
    "#Find the intercept\n",
    "a=model.intercept_"
   ]
  },
  {
   "cell_type": "code",
   "execution_count": 20,
   "id": "752be0f7",
   "metadata": {},
   "outputs": [
    {
     "name": "stdout",
     "output_type": "stream",
     "text": [
      "Equation for linear regression model:7.032593549127693+0.047536640433019764*tv\n"
     ]
    }
   ],
   "source": [
    "print(\"Equation for linear regression model:{}+{}*tv\".format(a,b))"
   ]
  },
  {
   "cell_type": "markdown",
   "id": "a1ae6c49",
   "metadata": {},
   "source": [
    "1. What is the error when the advertisement for TV is 286.0?"
   ]
  },
  {
   "cell_type": "code",
   "execution_count": 21,
   "id": "78cae75d",
   "metadata": {},
   "outputs": [
    {
     "name": "stdout",
     "output_type": "stream",
     "text": [
      "[20.62807271]\n"
     ]
    }
   ],
   "source": [
    "ypred_tv=model.predict([[286.0]])\n",
    "print(ypred_tv)"
   ]
  },
  {
   "cell_type": "code",
   "execution_count": 22,
   "id": "99266f18",
   "metadata": {},
   "outputs": [
    {
     "name": "stdout",
     "output_type": "stream",
     "text": [
      "the error when the advertisement for TV is 286.0 : 188   -4.728073\n",
      "Name: sales, dtype: float64\n"
     ]
    }
   ],
   "source": [
    "yactual_tv=df[\"sales\"].where(df[\"TV\"]==286.0).dropna()\n",
    "print (\"the error when the advertisement for TV is 286.0 : {}\".format(yactual_tv-ypred_tv))"
   ]
  },
  {
   "cell_type": "code",
   "execution_count": 23,
   "id": "04a67114",
   "metadata": {},
   "outputs": [],
   "source": [
    "# Find the predicted sales value for all the tv values\n",
    "y_pred = model.predict(x)"
   ]
  },
  {
   "cell_type": "code",
   "execution_count": 24,
   "id": "d7c6d07a",
   "metadata": {},
   "outputs": [
    {
     "data": {
      "image/png": "[encoded data removed]",
      "text/plain": [
       "<Figure size 432x288 with 1 Axes>"
      ]
     },
     "metadata": {
      "needs_background": "light"
     },
     "output_type": "display_data"
    }
   ],
   "source": [
    "#Plot the x vs actual y\n",
    "plt.scatter(x,y,color=\"blue\")\n",
    "#Plot the x vs predicted y\n",
    "plt.plot(x,y_pred,color=\"black\")\n",
    "plt.title(\"Linear Regression TV vs Sale\", fontsize=14) # set the title\n",
    "plt.ylabel('sales') # set the y label\n",
    "plt.xlabel('TV') # set the x label\n",
    "plt.grid(color = \"blue\", linewidth = \"1\", linestyle = \"-.\", alpha=0.3)"
   ]
  },
  {
   "cell_type": "markdown",
   "id": "2e292a52",
   "metadata": {},
   "source": [
    "2. Find the total Error between regression line and data points."
   ]
  },
  {
   "cell_type": "code",
   "execution_count": 25,
   "id": "32c01f08",
   "metadata": {},
   "outputs": [
    {
     "name": "stdout",
     "output_type": "stream",
     "text": [
      "Mean Absolute Error: 2.549806038927486\n"
     ]
    }
   ],
   "source": [
    "from sklearn.metrics import mean_absolute_error   \n",
    "print(\"Mean Absolute Error: {}\".format(mean_absolute_error(y, y_pred)))"
   ]
  },
  {
   "cell_type": "code",
   "execution_count": 26,
   "id": "1c4f3cd7",
   "metadata": {},
   "outputs": [],
   "source": [
    "def mean_squared_error(y, y_pred):\n",
    "    return (1 / len(y)) * np.sum((y - y_pred)**2)"
   ]
  },
  {
   "cell_type": "code",
   "execution_count": 27,
   "id": "fa34fd17",
   "metadata": {},
   "outputs": [
    {
     "name": "stdout",
     "output_type": "stream",
     "text": [
      "Root Mean squared Error: 3.2423221486546887\n"
     ]
    }
   ],
   "source": [
    "print(\"Root Mean squared Error: {}\".format(np.sqrt(mean_squared_error(y, y_pred))))"
   ]
  },
  {
   "cell_type": "markdown",
   "id": "4513bb9a",
   "metadata": {},
   "source": [
    "3. What is linear regression model for TV sales if the advertisement is considered Radio only?"
   ]
  },
  {
   "cell_type": "code",
   "execution_count": 28,
   "id": "6688e115",
   "metadata": {},
   "outputs": [],
   "source": [
    "# x value as radio and y value as sales\n",
    "x=df[\"radio\"].to_numpy().reshape(-1,1)\n",
    "y=df[\"sales\"].to_numpy()\n",
    "#build model\n",
    "model = LinearRegression().fit(x , y)"
   ]
  },
  {
   "cell_type": "code",
   "execution_count": 29,
   "id": "249f409e",
   "metadata": {},
   "outputs": [
    {
     "name": "stdout",
     "output_type": "stream",
     "text": [
      "Equation for linear regression model:9.311638095158283+0.20249578339243965*radio\n"
     ]
    }
   ],
   "source": [
    "b=model.coef_[0]\n",
    "a=model.intercept_\n",
    "print(\"Equation for linear regression model:{}+{}*radio\".format(a,b))"
   ]
  },
  {
   "cell_type": "code",
   "execution_count": 30,
   "id": "aa05c3df",
   "metadata": {},
   "outputs": [
    {
     "name": "stdout",
     "output_type": "stream",
     "text": [
      "[12.12632948]\n"
     ]
    }
   ],
   "source": [
    "# predit sales value of radio=13.9\n",
    "ypred_rd=model.predict([[13.9]])\n",
    "print(ypred_rd)"
   ]
  },
  {
   "cell_type": "code",
   "execution_count": 31,
   "id": "a4c8b54e",
   "metadata": {},
   "outputs": [
    {
     "name": "stdout",
     "output_type": "stream",
     "text": [
      "The errors when the advertisement for radio is 13.9 : 150    3.973671\n",
      "188    3.773671\n",
      "Name: sales, dtype: float64\n"
     ]
    }
   ],
   "source": [
    "#Find the errors\n",
    "yactual_rd=df[\"sales\"].where(df[\"radio\"]==13.9).dropna()\n",
    "print (\"The errors when the advertisement for radio is 13.9 : {}\".format(yactual_rd-ypred_rd))"
   ]
  },
  {
   "cell_type": "code",
   "execution_count": 32,
   "id": "28b39e88",
   "metadata": {},
   "outputs": [
    {
     "data": {
      "text/plain": [
       "3.8749610661400573"
      ]
     },
     "execution_count": 32,
     "metadata": {},
     "output_type": "execute_result"
    }
   ],
   "source": [
    "#Find the RMSE of when the advertisement for radio is 13.9\n",
    "np.sqrt((1 / len(yactual_rd)) * np.sum((yactual_rd-ypred_rd)**2))"
   ]
  },
  {
   "cell_type": "code",
   "execution_count": 33,
   "id": "12e5f784",
   "metadata": {},
   "outputs": [],
   "source": [
    "# Find the predicted sales value for all the radio values\n",
    "y_pred = model.predict(x)"
   ]
  },
  {
   "cell_type": "code",
   "execution_count": 34,
   "id": "be555882",
   "metadata": {},
   "outputs": [
    {
     "data": {
      "image/png": "[encoded data removed]",
      "text/plain": [
       "<Figure size 432x288 with 1 Axes>"
      ]
     },
     "metadata": {
      "needs_background": "light"
     },
     "output_type": "display_data"
    }
   ],
   "source": [
    "#Plot the x vs actual y\n",
    "plt.scatter(x,y,color=\"blue\")\n",
    "#Plot the x vs predicted y\n",
    "plt.plot(x,y_pred,color=\"black\")\n",
    "plt.title(\"Linear Regression Radio vs Sale\", fontsize=14) # set the title\n",
    "plt.ylabel('sales') # set the y label\n",
    "plt.xlabel('radio') # set the x label\n",
    "plt.grid(color = \"blue\", linewidth = \"1\", linestyle = \"-.\", alpha=0.3)"
   ]
  },
  {
   "cell_type": "markdown",
   "id": "87b2ea69",
   "metadata": {},
   "source": [
    "5. Find the total error between regression line and data points."
   ]
  },
  {
   "cell_type": "code",
   "execution_count": 35,
   "id": "bcaee1a0",
   "metadata": {},
   "outputs": [
    {
     "name": "stdout",
     "output_type": "stream",
     "text": [
      "Root Mean squared Error: 4.2535159274564185\n"
     ]
    }
   ],
   "source": [
    "from sklearn.metrics import mean_squared_error\n",
    "mean_squared_error(y, y_pred)\n",
    "print(\"Root Mean squared Error: {}\".format(np.sqrt(mean_squared_error(y, y_pred))))"
   ]
  },
  {
   "cell_type": "markdown",
   "id": "03aad66b",
   "metadata": {},
   "source": [
    "6. What is linear regression model for TV sales if the advertisement is considered\n",
    "newspapers only?"
   ]
  },
  {
   "cell_type": "code",
   "execution_count": 36,
   "id": "ae11f266",
   "metadata": {},
   "outputs": [],
   "source": [
    "x=df[\"newspaper\"].to_numpy().reshape(-1,1)\n",
    "y=df[\"sales\"].to_numpy()\n",
    "model = LinearRegression().fit(x , y)"
   ]
  },
  {
   "cell_type": "code",
   "execution_count": 37,
   "id": "8ec3ce52",
   "metadata": {},
   "outputs": [
    {
     "name": "stdout",
     "output_type": "stream",
     "text": [
      "Equation for linear regression model:12.35140706927816+0.05469309847227336*newspaper\n"
     ]
    }
   ],
   "source": [
    "b=model.coef_[0]\n",
    "a=model.intercept_\n",
    "print(\"Equation for linear regression model:{}+{}*newspaper\".format(a,b))"
   ]
  },
  {
   "cell_type": "code",
   "execution_count": 38,
   "id": "ce1cce81",
   "metadata": {},
   "outputs": [],
   "source": [
    "# Find the predicted sales value for all the tv values\n",
    "y_pred = model.predict(x)"
   ]
  },
  {
   "cell_type": "code",
   "execution_count": 39,
   "id": "9c08b5a1",
   "metadata": {},
   "outputs": [
    {
     "data": {
      "image/png": "[encoded data removed]",
      "text/plain": [
       "<Figure size 432x288 with 1 Axes>"
      ]
     },
     "metadata": {
      "needs_background": "light"
     },
     "output_type": "display_data"
    }
   ],
   "source": [
    "#Plot the x vs actual y\n",
    "plt.scatter(x,y,color=\"blue\")\n",
    "#Plot the x vs predicted y\n",
    "plt.plot(x,y_pred,color=\"black\")\n",
    "plt.title(\"Linear Regression Newspaper vs Sale\", fontsize=14) # set the title\n",
    "plt.ylabel('sales') # set the y label\n",
    "plt.xlabel('newspaper') # set the x label\n",
    "plt.grid(color = \"blue\", linewidth = \"1\", linestyle = \"-.\", alpha=0.3)"
   ]
  },
  {
   "cell_type": "markdown",
   "id": "20da36bb",
   "metadata": {},
   "source": [
    "7. Design Multivariate Regression Model"
   ]
  },
  {
   "cell_type": "code",
   "execution_count": 40,
   "id": "d2871892",
   "metadata": {},
   "outputs": [
    {
     "name": "stdout",
     "output_type": "stream",
     "text": [
      "2.9388893694594067\n",
      "[ 0.04576465  0.18853002 -0.00103749]\n"
     ]
    }
   ],
   "source": [
    "#Define x and y values for multivariate linear regression model\n",
    "x=df[[\"TV\",\"radio\",\"newspaper\"]]\n",
    "y=df.sales\n",
    "multimodel=LinearRegression().fit(x,y)\n",
    "#Find the intercept and coefficients\n",
    "print(multimodel.intercept_)\n",
    "print(multimodel.coef_)\n",
    "cof=list(zip(['TV','radio','newspaper'],multimodel.coef_))"
   ]
  },
  {
   "cell_type": "code",
   "execution_count": 41,
   "id": "a50bf903",
   "metadata": {},
   "outputs": [],
   "source": [
    "y_pred = multimodel.predict(x)"
   ]
  },
  {
   "cell_type": "code",
   "execution_count": 42,
   "id": "537f43ec",
   "metadata": {},
   "outputs": [
    {
     "name": "stdout",
     "output_type": "stream",
     "text": [
      "Root Mean squared Error: 1.6685701407225697\n"
     ]
    }
   ],
   "source": [
    "from sklearn.metrics import mean_squared_error\n",
    "mean_squared_error(y, y_pred)\n",
    "print(\"Root Mean squared Error: {}\".format(np.sqrt(mean_squared_error(y, y_pred))))"
   ]
  },
  {
   "cell_type": "code",
   "execution_count": 43,
   "id": "75f292e4",
   "metadata": {},
   "outputs": [
    {
     "name": "stdout",
     "output_type": "stream",
     "text": [
      "Equation of multilvariate linear regression:0.04576464545539761*TV+0.18853001691820462*radio+-0.0010374930424762972*newspaper+2.9388893694594067\n"
     ]
    }
   ],
   "source": [
    "print(\"Equation of multilvariate linear regression:{}*TV+{}*radio+{}*newspaper+{}\".format(cof[0][1],cof[1][1],cof[2][1],multimodel.intercept_))"
   ]
  },
  {
   "cell_type": "markdown",
   "id": "080fe51f",
   "metadata": {},
   "source": [
    "# Question No 3:"
   ]
  },
  {
   "cell_type": "markdown",
   "id": "c997ccbd",
   "metadata": {},
   "source": [
    "Question No 3.1:"
   ]
  },
  {
   "cell_type": "code",
   "execution_count": 44,
   "id": "563a6e34",
   "metadata": {},
   "outputs": [
    {
     "data": {
      "text/html": [
       "<div>\n",
       "<style scoped>\n",
       "    .dataframe tbody tr th:only-of-type {\n",
       "        vertical-align: middle;\n",
       "    }\n",
       "\n",
       "    .dataframe tbody tr th {\n",
       "        vertical-align: top;\n",
       "    }\n",
       "\n",
       "    .dataframe thead th {\n",
       "        text-align: right;\n",
       "    }\n",
       "</style>\n",
       "<table border=\"1\" class=\"dataframe\">\n",
       "  <thead>\n",
       "    <tr style=\"text-align: right;\">\n",
       "      <th></th>\n",
       "      <th>CRIM</th>\n",
       "      <th>ZN</th>\n",
       "      <th>INDUS</th>\n",
       "      <th>CHAS</th>\n",
       "      <th>NOX</th>\n",
       "      <th>RM</th>\n",
       "      <th>AGE</th>\n",
       "      <th>DIS</th>\n",
       "      <th>RAD</th>\n",
       "      <th>TAX</th>\n",
       "      <th>PTRATIO</th>\n",
       "      <th>B</th>\n",
       "      <th>LSTAT</th>\n",
       "      <th>MEDV</th>\n",
       "    </tr>\n",
       "  </thead>\n",
       "  <tbody>\n",
       "    <tr>\n",
       "      <th>0</th>\n",
       "      <td>0.00632</td>\n",
       "      <td>18.0</td>\n",
       "      <td>2.31</td>\n",
       "      <td>0</td>\n",
       "      <td>0.538</td>\n",
       "      <td>6.575</td>\n",
       "      <td>65.2</td>\n",
       "      <td>4.0900</td>\n",
       "      <td>1</td>\n",
       "      <td>296.0</td>\n",
       "      <td>15.3</td>\n",
       "      <td>396.90</td>\n",
       "      <td>4.98</td>\n",
       "      <td>24.0</td>\n",
       "    </tr>\n",
       "    <tr>\n",
       "      <th>1</th>\n",
       "      <td>0.02731</td>\n",
       "      <td>0.0</td>\n",
       "      <td>7.07</td>\n",
       "      <td>0</td>\n",
       "      <td>0.469</td>\n",
       "      <td>6.421</td>\n",
       "      <td>78.9</td>\n",
       "      <td>4.9671</td>\n",
       "      <td>2</td>\n",
       "      <td>242.0</td>\n",
       "      <td>17.8</td>\n",
       "      <td>396.90</td>\n",
       "      <td>9.14</td>\n",
       "      <td>21.6</td>\n",
       "    </tr>\n",
       "    <tr>\n",
       "      <th>2</th>\n",
       "      <td>0.02729</td>\n",
       "      <td>0.0</td>\n",
       "      <td>7.07</td>\n",
       "      <td>0</td>\n",
       "      <td>0.469</td>\n",
       "      <td>7.185</td>\n",
       "      <td>61.1</td>\n",
       "      <td>4.9671</td>\n",
       "      <td>2</td>\n",
       "      <td>242.0</td>\n",
       "      <td>17.8</td>\n",
       "      <td>392.83</td>\n",
       "      <td>4.03</td>\n",
       "      <td>34.7</td>\n",
       "    </tr>\n",
       "    <tr>\n",
       "      <th>3</th>\n",
       "      <td>0.03237</td>\n",
       "      <td>0.0</td>\n",
       "      <td>2.18</td>\n",
       "      <td>0</td>\n",
       "      <td>0.458</td>\n",
       "      <td>6.998</td>\n",
       "      <td>45.8</td>\n",
       "      <td>6.0622</td>\n",
       "      <td>3</td>\n",
       "      <td>222.0</td>\n",
       "      <td>18.7</td>\n",
       "      <td>394.63</td>\n",
       "      <td>2.94</td>\n",
       "      <td>33.4</td>\n",
       "    </tr>\n",
       "    <tr>\n",
       "      <th>4</th>\n",
       "      <td>0.06905</td>\n",
       "      <td>0.0</td>\n",
       "      <td>2.18</td>\n",
       "      <td>0</td>\n",
       "      <td>0.458</td>\n",
       "      <td>7.147</td>\n",
       "      <td>54.2</td>\n",
       "      <td>6.0622</td>\n",
       "      <td>3</td>\n",
       "      <td>222.0</td>\n",
       "      <td>18.7</td>\n",
       "      <td>396.90</td>\n",
       "      <td>5.33</td>\n",
       "      <td>36.2</td>\n",
       "    </tr>\n",
       "  </tbody>\n",
       "</table>\n",
       "</div>"
      ],
      "text/plain": [
       "      CRIM    ZN  INDUS  CHAS    NOX     RM   AGE     DIS  RAD    TAX  \\\n",
       "0  0.00632  18.0   2.31     0  0.538  6.575  65.2  4.0900    1  296.0   \n",
       "1  0.02731   0.0   7.07     0  0.469  6.421  78.9  4.9671    2  242.0   \n",
       "2  0.02729   0.0   7.07     0  0.469  7.185  61.1  4.9671    2  242.0   \n",
       "3  0.03237   0.0   2.18     0  0.458  6.998  45.8  6.0622    3  222.0   \n",
       "4  0.06905   0.0   2.18     0  0.458  7.147  54.2  6.0622    3  222.0   \n",
       "\n",
       "   PTRATIO       B  LSTAT  MEDV  \n",
       "0     15.3  396.90   4.98  24.0  \n",
       "1     17.8  396.90   9.14  21.6  \n",
       "2     17.8  392.83   4.03  34.7  \n",
       "3     18.7  394.63   2.94  33.4  \n",
       "4     18.7  396.90   5.33  36.2  "
      ]
     },
     "execution_count": 44,
     "metadata": {},
     "output_type": "execute_result"
    }
   ],
   "source": [
    "#Read the cvs file to the dataframe\n",
    "house_data=pd.read_csv(\"housing.csv\",delimiter=r\"\\s+\")\n",
    "house_data.head()"
   ]
  },
  {
   "cell_type": "code",
   "execution_count": 45,
   "id": "5a2f7a31",
   "metadata": {},
   "outputs": [
    {
     "data": {
      "text/plain": [
       "CRIM       0\n",
       "ZN         0\n",
       "INDUS      0\n",
       "CHAS       0\n",
       "NOX        0\n",
       "RM         0\n",
       "AGE        0\n",
       "DIS        0\n",
       "RAD        0\n",
       "TAX        0\n",
       "PTRATIO    0\n",
       "B          0\n",
       "LSTAT      0\n",
       "MEDV       0\n",
       "dtype: int64"
      ]
     },
     "execution_count": 45,
     "metadata": {},
     "output_type": "execute_result"
    }
   ],
   "source": [
    "house_data.isna().sum()"
   ]
  },
  {
   "cell_type": "code",
   "execution_count": 46,
   "id": "c64b37c7",
   "metadata": {},
   "outputs": [
    {
     "data": {
      "text/plain": [
       "(506, 14)"
      ]
     },
     "execution_count": 46,
     "metadata": {},
     "output_type": "execute_result"
    }
   ],
   "source": [
    "house_data.shape"
   ]
  },
  {
   "cell_type": "code",
   "execution_count": 47,
   "id": "9c96322a",
   "metadata": {},
   "outputs": [
    {
     "data": {
      "text/plain": [
       "506"
      ]
     },
     "execution_count": 47,
     "metadata": {},
     "output_type": "execute_result"
    }
   ],
   "source": [
    "house_data[house_data.columns[0]].count()"
   ]
  },
  {
   "cell_type": "code",
   "execution_count": 48,
   "id": "60cad991",
   "metadata": {},
   "outputs": [
    {
     "data": {
      "text/plain": [
       "506"
      ]
     },
     "execution_count": 48,
     "metadata": {},
     "output_type": "execute_result"
    }
   ],
   "source": [
    "len(house_data)"
   ]
  },
  {
   "cell_type": "code",
   "execution_count": 49,
   "id": "d88993cb",
   "metadata": {},
   "outputs": [
    {
     "data": {
      "text/plain": [
       "14"
      ]
     },
     "execution_count": 49,
     "metadata": {},
     "output_type": "execute_result"
    }
   ],
   "source": [
    "len(house_data.axes[1])"
   ]
  },
  {
   "cell_type": "code",
   "execution_count": 50,
   "id": "495a9f22",
   "metadata": {},
   "outputs": [
    {
     "data": {
      "text/plain": [
       "<AxesSubplot:>"
      ]
     },
     "execution_count": 50,
     "metadata": {},
     "output_type": "execute_result"
    },
    {
     "data": {
      "image/png": "[encoded data removed]",
      "text/plain": [
       "<Figure size 720x720 with 2 Axes>"
      ]
     },
     "metadata": {
      "needs_background": "light"
     },
     "output_type": "display_data"
    }
   ],
   "source": [
    "fig, ax = plt.subplots(figsize=(10,10))\n",
    "snb.heatmap(house_data.corr(), annot = True, fmt='.2g',cmap= 'coolwarm', linewidths=.5,ax=ax)"
   ]
  },
  {
   "cell_type": "code",
   "execution_count": 51,
   "id": "ea885081",
   "metadata": {},
   "outputs": [
    {
     "data": {
      "image/png": "[encoded data removed]",
      "text/plain": [
       "<Figure size 720x504 with 1 Axes>"
      ]
     },
     "metadata": {
      "needs_background": "light"
     },
     "output_type": "display_data"
    }
   ],
   "source": [
    "fig = plt.figure(figsize =(10, 7))\n",
    " \n",
    "# Creating axes instance\n",
    "ax = fig.add_axes([0, 0, 1, 1])\n",
    " \n",
    "# Creating plot\n",
    "boxplot = ax.boxplot(house_data)\n",
    " \n",
    "# show plot\n",
    "plt.show()"
   ]
  },
  {
   "cell_type": "code",
   "execution_count": 52,
   "id": "f51243cd",
   "metadata": {},
   "outputs": [
    {
     "name": "stdout",
     "output_type": "stream",
     "text": [
      "CRIM:66\n",
      "ZN:68\n",
      "INDUS:0\n",
      "CHAS:35\n",
      "NOX:0\n",
      "RM:30\n",
      "AGE:0\n",
      "DIS:5\n",
      "RAD:0\n",
      "TAX:0\n",
      "PTRATIO:15\n",
      "B:77\n",
      "LSTAT:7\n"
     ]
    }
   ],
   "source": [
    "data_out=house_data \n",
    "for i in range(0,data_out.shape[1]-1):\n",
    "    q1=data_out[data_out.columns[i]].quantile(.25)\n",
    "    q3=data_out[data_out.columns[i]].quantile(.75)\n",
    "    iqr=q3-q1\n",
    "    data_out['outlier']=np.where(data_out[[data_out.columns[i]]]<(q1-1.5*iqr),0,\n",
    "                             np.where(data_out[[data_out.columns[i]]]>(q3+1.5*iqr),0,1))\n",
    "    print(\"{}:{}\".format(data_out.columns[i],data_out[data_out.columns[i]].where(data_out[\"outlier\"]==0).count()))"
   ]
  },
  {
   "cell_type": "code",
   "execution_count": 53,
   "id": "be4a1d5b",
   "metadata": {},
   "outputs": [
    {
     "data": {
      "text/plain": [
       "CRIM         0.25651\n",
       "ZN           0.00000\n",
       "INDUS        9.69000\n",
       "CHAS         0.00000\n",
       "NOX          0.53800\n",
       "RM           6.20850\n",
       "AGE         77.50000\n",
       "DIS          3.20745\n",
       "RAD          5.00000\n",
       "TAX        330.00000\n",
       "PTRATIO     19.05000\n",
       "B          391.44000\n",
       "LSTAT       11.36000\n",
       "MEDV        21.20000\n",
       "outlier      1.00000\n",
       "dtype: float64"
      ]
     },
     "execution_count": 53,
     "metadata": {},
     "output_type": "execute_result"
    }
   ],
   "source": [
    "house_data.median(axis=0)"
   ]
  },
  {
   "cell_type": "code",
   "execution_count": 54,
   "id": "7d6b86f9",
   "metadata": {},
   "outputs": [
    {
     "data": {
      "text/plain": [
       "CRIM         3.613524\n",
       "ZN          11.363636\n",
       "INDUS       11.136779\n",
       "CHAS         0.069170\n",
       "NOX          0.554695\n",
       "RM           6.284634\n",
       "AGE         68.574901\n",
       "DIS          3.795043\n",
       "RAD          9.549407\n",
       "TAX        408.237154\n",
       "PTRATIO     18.455534\n",
       "B          356.674032\n",
       "LSTAT       12.653063\n",
       "MEDV        22.532806\n",
       "outlier      0.986166\n",
       "dtype: float64"
      ]
     },
     "execution_count": 54,
     "metadata": {},
     "output_type": "execute_result"
    }
   ],
   "source": [
    "house_data.mean(axis=0)"
   ]
  },
  {
   "cell_type": "code",
   "execution_count": 55,
   "id": "1ebefa28",
   "metadata": {},
   "outputs": [
    {
     "data": {
      "text/html": [
       "<div>\n",
       "<style scoped>\n",
       "    .dataframe tbody tr th:only-of-type {\n",
       "        vertical-align: middle;\n",
       "    }\n",
       "\n",
       "    .dataframe tbody tr th {\n",
       "        vertical-align: top;\n",
       "    }\n",
       "\n",
       "    .dataframe thead th {\n",
       "        text-align: right;\n",
       "    }\n",
       "</style>\n",
       "<table border=\"1\" class=\"dataframe\">\n",
       "  <thead>\n",
       "    <tr style=\"text-align: right;\">\n",
       "      <th></th>\n",
       "      <th>CRIM</th>\n",
       "      <th>ZN</th>\n",
       "      <th>INDUS</th>\n",
       "      <th>CHAS</th>\n",
       "      <th>NOX</th>\n",
       "      <th>RM</th>\n",
       "      <th>AGE</th>\n",
       "      <th>DIS</th>\n",
       "      <th>RAD</th>\n",
       "      <th>TAX</th>\n",
       "      <th>PTRATIO</th>\n",
       "      <th>B</th>\n",
       "      <th>LSTAT</th>\n",
       "      <th>MEDV</th>\n",
       "      <th>outlier</th>\n",
       "    </tr>\n",
       "  </thead>\n",
       "  <tbody>\n",
       "    <tr>\n",
       "      <th>0.10</th>\n",
       "      <td>0.038195</td>\n",
       "      <td>0.0</td>\n",
       "      <td>2.91</td>\n",
       "      <td>0.0</td>\n",
       "      <td>0.427</td>\n",
       "      <td>5.5935</td>\n",
       "      <td>26.950</td>\n",
       "      <td>1.628300</td>\n",
       "      <td>3.0</td>\n",
       "      <td>233.0</td>\n",
       "      <td>14.75</td>\n",
       "      <td>290.2700</td>\n",
       "      <td>4.680</td>\n",
       "      <td>12.750</td>\n",
       "      <td>1.0</td>\n",
       "    </tr>\n",
       "    <tr>\n",
       "      <th>0.25</th>\n",
       "      <td>0.082045</td>\n",
       "      <td>0.0</td>\n",
       "      <td>5.19</td>\n",
       "      <td>0.0</td>\n",
       "      <td>0.449</td>\n",
       "      <td>5.8855</td>\n",
       "      <td>45.025</td>\n",
       "      <td>2.100175</td>\n",
       "      <td>4.0</td>\n",
       "      <td>279.0</td>\n",
       "      <td>17.40</td>\n",
       "      <td>375.3775</td>\n",
       "      <td>6.950</td>\n",
       "      <td>17.025</td>\n",
       "      <td>1.0</td>\n",
       "    </tr>\n",
       "    <tr>\n",
       "      <th>0.50</th>\n",
       "      <td>0.256510</td>\n",
       "      <td>0.0</td>\n",
       "      <td>9.69</td>\n",
       "      <td>0.0</td>\n",
       "      <td>0.538</td>\n",
       "      <td>6.2085</td>\n",
       "      <td>77.500</td>\n",
       "      <td>3.207450</td>\n",
       "      <td>5.0</td>\n",
       "      <td>330.0</td>\n",
       "      <td>19.05</td>\n",
       "      <td>391.4400</td>\n",
       "      <td>11.360</td>\n",
       "      <td>21.200</td>\n",
       "      <td>1.0</td>\n",
       "    </tr>\n",
       "    <tr>\n",
       "      <th>0.75</th>\n",
       "      <td>3.677083</td>\n",
       "      <td>12.5</td>\n",
       "      <td>18.10</td>\n",
       "      <td>0.0</td>\n",
       "      <td>0.624</td>\n",
       "      <td>6.6235</td>\n",
       "      <td>94.075</td>\n",
       "      <td>5.188425</td>\n",
       "      <td>24.0</td>\n",
       "      <td>666.0</td>\n",
       "      <td>20.20</td>\n",
       "      <td>396.2250</td>\n",
       "      <td>16.955</td>\n",
       "      <td>25.000</td>\n",
       "      <td>1.0</td>\n",
       "    </tr>\n",
       "  </tbody>\n",
       "</table>\n",
       "</div>"
      ],
      "text/plain": [
       "          CRIM    ZN  INDUS  CHAS    NOX      RM     AGE       DIS   RAD  \\\n",
       "0.10  0.038195   0.0   2.91   0.0  0.427  5.5935  26.950  1.628300   3.0   \n",
       "0.25  0.082045   0.0   5.19   0.0  0.449  5.8855  45.025  2.100175   4.0   \n",
       "0.50  0.256510   0.0   9.69   0.0  0.538  6.2085  77.500  3.207450   5.0   \n",
       "0.75  3.677083  12.5  18.10   0.0  0.624  6.6235  94.075  5.188425  24.0   \n",
       "\n",
       "        TAX  PTRATIO         B   LSTAT    MEDV  outlier  \n",
       "0.10  233.0    14.75  290.2700   4.680  12.750      1.0  \n",
       "0.25  279.0    17.40  375.3775   6.950  17.025      1.0  \n",
       "0.50  330.0    19.05  391.4400  11.360  21.200      1.0  \n",
       "0.75  666.0    20.20  396.2250  16.955  25.000      1.0  "
      ]
     },
     "execution_count": 55,
     "metadata": {},
     "output_type": "execute_result"
    }
   ],
   "source": [
    "house_data.quantile([.1, .25, .5, .75], axis = 0)"
   ]
  },
  {
   "cell_type": "code",
   "execution_count": 56,
   "id": "45f6d826",
   "metadata": {},
   "outputs": [
    {
     "data": {
      "text/plain": [
       "Text(0, 0.5, 'AGE')"
      ]
     },
     "execution_count": 56,
     "metadata": {},
     "output_type": "execute_result"
    },
    {
     "data": {
      "image/png": "[encoded data removed]",
      "text/plain": [
       "<Figure size 432x288 with 1 Axes>"
      ]
     },
     "metadata": {
      "needs_background": "light"
     },
     "output_type": "display_data"
    }
   ],
   "source": [
    "plt.scatter(house_data['MEDV'], house_data['AGE'])\n",
    "plt.xlabel('MEDV')\n",
    "plt.ylabel('AGE')"
   ]
  },
  {
   "cell_type": "markdown",
   "id": "0929fcc9",
   "metadata": {},
   "source": [
    "# K-means"
   ]
  },
  {
   "cell_type": "code",
   "execution_count": 57,
   "id": "15e02ee9",
   "metadata": {},
   "outputs": [
    {
     "data": {
      "text/plain": [
       "array([0, 2, 0, 0, 0, 0, 0, 2, 2, 2, 2, 2, 1, 0, 2, 0, 1, 2, 1, 0, 2, 2,\n",
       "       2, 2, 2, 2, 2, 2, 2, 2, 2, 2, 2, 2, 2, 0, 0, 1, 1, 1, 1, 1, 1, 1,\n",
       "       1, 1, 1, 2, 2, 0, 0, 0, 1, 1, 0, 1, 1, 1, 1, 0, 0, 2, 0, 1, 0, 1,\n",
       "       1, 1, 1, 1, 1, 1, 1, 1, 1, 0, 0, 0, 0, 1, 1, 0, 1, 0, 0, 0, 0, 0,\n",
       "       2, 0, 0, 0, 0, 1, 2, 0, 0, 0, 1, 0, 2, 0, 2, 2, 2, 2, 2, 2, 2, 2,\n",
       "       0, 2, 2, 2, 2, 2, 0, 2, 0, 0, 0, 2, 2, 2, 2, 2, 2, 2, 2, 2, 2, 2,\n",
       "       2, 2, 2, 2, 2, 2, 2, 2, 2, 2, 2, 2, 2, 2, 2, 2, 2, 2, 2, 2, 2, 2,\n",
       "       2, 2, 2, 2, 2, 2, 2, 2, 2, 2, 2, 2, 2, 2, 2, 2, 2, 2, 2, 2, 0, 1,\n",
       "       0, 0, 0, 0, 2, 0, 2, 2, 2, 0, 0, 1, 1, 1, 1, 1, 1, 1, 1, 1, 1, 1,\n",
       "       1, 1, 1, 1, 1, 1, 1, 1, 0, 0, 0, 2, 2, 2, 0, 1, 1, 1, 0, 2, 2, 2,\n",
       "       2, 2, 0, 2, 0, 2, 2, 2, 1, 1, 0, 0, 0, 0, 0, 0, 0, 0, 1, 1, 0, 0,\n",
       "       0, 1, 2, 0, 1, 2, 0, 1, 1, 1, 1, 1, 1, 1, 1, 2, 2, 2, 2, 2, 2, 2,\n",
       "       2, 0, 2, 0, 0, 0, 1, 1, 0, 0, 1, 1, 0, 1, 1, 1, 0, 1, 0, 1, 1, 1,\n",
       "       1, 1, 0, 1, 1, 1, 1, 1, 1, 1, 0, 0, 1, 1, 0, 1, 1, 1, 1, 0, 0, 0,\n",
       "       2, 2, 1, 0, 2, 2, 2, 2, 2, 0, 0, 0, 0, 0, 0, 0, 1, 1, 1, 1, 1, 1,\n",
       "       1, 1, 1, 1, 1, 1, 0, 0, 1, 0, 0, 0, 0, 0, 1, 0, 0, 1, 1, 1, 0, 1,\n",
       "       1, 1, 1, 1, 2, 2, 2, 2, 2, 2, 2, 2, 2, 2, 2, 2, 2, 2, 2, 2, 2, 2,\n",
       "       2, 2, 2, 2, 2, 2, 2, 2, 2, 2, 2, 2, 2, 2, 2, 2, 2, 2, 2, 2, 2, 2,\n",
       "       2, 2, 2, 2, 2, 2, 2, 2, 2, 2, 2, 2, 2, 2, 2, 2, 2, 2, 2, 2, 2, 2,\n",
       "       2, 2, 2, 2, 2, 2, 0, 2, 0, 2, 2, 2, 2, 2, 0, 2, 2, 2, 2, 2, 2, 2,\n",
       "       2, 2, 2, 2, 2, 2, 2, 2, 2, 2, 2, 2, 2, 2, 2, 2, 2, 2, 2, 2, 2, 2,\n",
       "       2, 2, 0, 0, 2, 2, 0, 0, 2, 2, 0, 0, 2, 2, 2, 2, 2, 2, 0, 0, 0, 1,\n",
       "       1, 0, 2, 0, 2, 2, 2, 2, 2, 0, 1, 1, 0, 0, 0, 0, 2, 0, 2, 2, 2, 2])"
      ]
     },
     "execution_count": 57,
     "metadata": {},
     "output_type": "execute_result"
    }
   ],
   "source": [
    "# Run K-means algoorithm\n",
    "km = KMeans(n_clusters=3)\n",
    "y_predicted = km.fit_predict(house_data[['MEDV','AGE']])\n",
    "y_predicted"
   ]
  },
  {
   "cell_type": "code",
   "execution_count": 58,
   "id": "16529f95",
   "metadata": {},
   "outputs": [
    {
     "data": {
      "text/html": [
       "<div>\n",
       "<style scoped>\n",
       "    .dataframe tbody tr th:only-of-type {\n",
       "        vertical-align: middle;\n",
       "    }\n",
       "\n",
       "    .dataframe tbody tr th {\n",
       "        vertical-align: top;\n",
       "    }\n",
       "\n",
       "    .dataframe thead th {\n",
       "        text-align: right;\n",
       "    }\n",
       "</style>\n",
       "<table border=\"1\" class=\"dataframe\">\n",
       "  <thead>\n",
       "    <tr style=\"text-align: right;\">\n",
       "      <th></th>\n",
       "      <th>CRIM</th>\n",
       "      <th>ZN</th>\n",
       "      <th>INDUS</th>\n",
       "      <th>CHAS</th>\n",
       "      <th>NOX</th>\n",
       "      <th>RM</th>\n",
       "      <th>AGE</th>\n",
       "      <th>DIS</th>\n",
       "      <th>RAD</th>\n",
       "      <th>TAX</th>\n",
       "      <th>PTRATIO</th>\n",
       "      <th>B</th>\n",
       "      <th>LSTAT</th>\n",
       "      <th>MEDV</th>\n",
       "      <th>outlier</th>\n",
       "      <th>CLUSTER</th>\n",
       "    </tr>\n",
       "  </thead>\n",
       "  <tbody>\n",
       "    <tr>\n",
       "      <th>0</th>\n",
       "      <td>0.00632</td>\n",
       "      <td>18.0</td>\n",
       "      <td>2.31</td>\n",
       "      <td>0</td>\n",
       "      <td>0.538</td>\n",
       "      <td>6.575</td>\n",
       "      <td>65.2</td>\n",
       "      <td>4.0900</td>\n",
       "      <td>1</td>\n",
       "      <td>296.0</td>\n",
       "      <td>15.3</td>\n",
       "      <td>396.90</td>\n",
       "      <td>4.98</td>\n",
       "      <td>24.0</td>\n",
       "      <td>1</td>\n",
       "      <td>0</td>\n",
       "    </tr>\n",
       "    <tr>\n",
       "      <th>1</th>\n",
       "      <td>0.02731</td>\n",
       "      <td>0.0</td>\n",
       "      <td>7.07</td>\n",
       "      <td>0</td>\n",
       "      <td>0.469</td>\n",
       "      <td>6.421</td>\n",
       "      <td>78.9</td>\n",
       "      <td>4.9671</td>\n",
       "      <td>2</td>\n",
       "      <td>242.0</td>\n",
       "      <td>17.8</td>\n",
       "      <td>396.90</td>\n",
       "      <td>9.14</td>\n",
       "      <td>21.6</td>\n",
       "      <td>1</td>\n",
       "      <td>2</td>\n",
       "    </tr>\n",
       "    <tr>\n",
       "      <th>2</th>\n",
       "      <td>0.02729</td>\n",
       "      <td>0.0</td>\n",
       "      <td>7.07</td>\n",
       "      <td>0</td>\n",
       "      <td>0.469</td>\n",
       "      <td>7.185</td>\n",
       "      <td>61.1</td>\n",
       "      <td>4.9671</td>\n",
       "      <td>2</td>\n",
       "      <td>242.0</td>\n",
       "      <td>17.8</td>\n",
       "      <td>392.83</td>\n",
       "      <td>4.03</td>\n",
       "      <td>34.7</td>\n",
       "      <td>1</td>\n",
       "      <td>0</td>\n",
       "    </tr>\n",
       "    <tr>\n",
       "      <th>3</th>\n",
       "      <td>0.03237</td>\n",
       "      <td>0.0</td>\n",
       "      <td>2.18</td>\n",
       "      <td>0</td>\n",
       "      <td>0.458</td>\n",
       "      <td>6.998</td>\n",
       "      <td>45.8</td>\n",
       "      <td>6.0622</td>\n",
       "      <td>3</td>\n",
       "      <td>222.0</td>\n",
       "      <td>18.7</td>\n",
       "      <td>394.63</td>\n",
       "      <td>2.94</td>\n",
       "      <td>33.4</td>\n",
       "      <td>1</td>\n",
       "      <td>0</td>\n",
       "    </tr>\n",
       "    <tr>\n",
       "      <th>4</th>\n",
       "      <td>0.06905</td>\n",
       "      <td>0.0</td>\n",
       "      <td>2.18</td>\n",
       "      <td>0</td>\n",
       "      <td>0.458</td>\n",
       "      <td>7.147</td>\n",
       "      <td>54.2</td>\n",
       "      <td>6.0622</td>\n",
       "      <td>3</td>\n",
       "      <td>222.0</td>\n",
       "      <td>18.7</td>\n",
       "      <td>396.90</td>\n",
       "      <td>5.33</td>\n",
       "      <td>36.2</td>\n",
       "      <td>1</td>\n",
       "      <td>0</td>\n",
       "    </tr>\n",
       "  </tbody>\n",
       "</table>\n",
       "</div>"
      ],
      "text/plain": [
       "      CRIM    ZN  INDUS  CHAS    NOX     RM   AGE     DIS  RAD    TAX  \\\n",
       "0  0.00632  18.0   2.31     0  0.538  6.575  65.2  4.0900    1  296.0   \n",
       "1  0.02731   0.0   7.07     0  0.469  6.421  78.9  4.9671    2  242.0   \n",
       "2  0.02729   0.0   7.07     0  0.469  7.185  61.1  4.9671    2  242.0   \n",
       "3  0.03237   0.0   2.18     0  0.458  6.998  45.8  6.0622    3  222.0   \n",
       "4  0.06905   0.0   2.18     0  0.458  7.147  54.2  6.0622    3  222.0   \n",
       "\n",
       "   PTRATIO       B  LSTAT  MEDV  outlier  CLUSTER  \n",
       "0     15.3  396.90   4.98  24.0        1        0  \n",
       "1     17.8  396.90   9.14  21.6        1        2  \n",
       "2     17.8  392.83   4.03  34.7        1        0  \n",
       "3     18.7  394.63   2.94  33.4        1        0  \n",
       "4     18.7  396.90   5.33  36.2        1        0  "
      ]
     },
     "execution_count": 58,
     "metadata": {},
     "output_type": "execute_result"
    }
   ],
   "source": [
    "house_data['CLUSTER'] = y_predicted\n",
    "house_data.head()"
   ]
  },
  {
   "cell_type": "code",
   "execution_count": 59,
   "id": "5196f262",
   "metadata": {},
   "outputs": [
    {
     "data": {
      "text/plain": [
       "array([[24.952     , 61.1984    ],\n",
       "       [27.1592    , 27.3688    ],\n",
       "       [19.09257812, 92.296875  ]])"
      ]
     },
     "execution_count": 59,
     "metadata": {},
     "output_type": "execute_result"
    }
   ],
   "source": [
    "# Cluster centers\n",
    "km.cluster_centers_"
   ]
  },
  {
   "cell_type": "code",
   "execution_count": 60,
   "id": "b1daa57f",
   "metadata": {},
   "outputs": [
    {
     "data": {
      "text/plain": [
       "<matplotlib.legend.Legend at 0x29253a48f40>"
      ]
     },
     "execution_count": 60,
     "metadata": {},
     "output_type": "execute_result"
    },
    {
     "data": {
      "image/png": "[encoded data removed]",
      "text/plain": [
       "<Figure size 432x288 with 1 Axes>"
      ]
     },
     "metadata": {
      "needs_background": "light"
     },
     "output_type": "display_data"
    }
   ],
   "source": [
    "# Plot clusters and centroids\n",
    "df1 = house_data[house_data.CLUSTER==0]\n",
    "df2 = house_data[house_data.CLUSTER==1]\n",
    "df3 = house_data[house_data.CLUSTER==2]\n",
    "\n",
    "plt.scatter(df1.MEDV,df1['AGE'],color='green')\n",
    "plt.scatter(df2.MEDV,df2['AGE'],color='red')\n",
    "plt.scatter(df3.MEDV,df3['AGE'],color='black')\n",
    "\n",
    "# Plot centers\n",
    "plt.scatter(km.cluster_centers_[:,1],km.cluster_centers_[:,1],color='purple',marker='*',label='centroid')\n",
    "plt.xlabel('MEDV')\n",
    "plt.ylabel('AGE')\n",
    "plt.legend()"
   ]
  },
  {
   "cell_type": "markdown",
   "id": "273d7b32",
   "metadata": {},
   "source": [
    "# data pre processing"
   ]
  },
  {
   "cell_type": "code",
   "execution_count": 61,
   "id": "55a553de",
   "metadata": {},
   "outputs": [],
   "source": [
    "# Import MinMaxScaler from sk preprocessing\n",
    "# https://scikit-learn.org/stable/modules/generated/sklearn.preprocessing.MinMaxScaler.html\n",
    "\n",
    "scaler = MinMaxScaler()\n",
    "\n",
    "# transform MEDV\n",
    "scaler.fit(house_data[['MEDV']])\n",
    "house_data['MEDV'] = scaler.transform(house_data[['MEDV']])\n",
    "\n",
    "# transform AGE\n",
    "scaler.fit(house_data[['AGE']])\n",
    "house_data['AGE'] = scaler.transform(house_data[['AGE']])"
   ]
  },
  {
   "cell_type": "code",
   "execution_count": 62,
   "id": "a7e6b9a1",
   "metadata": {},
   "outputs": [
    {
     "data": {
      "text/html": [
       "<div>\n",
       "<style scoped>\n",
       "    .dataframe tbody tr th:only-of-type {\n",
       "        vertical-align: middle;\n",
       "    }\n",
       "\n",
       "    .dataframe tbody tr th {\n",
       "        vertical-align: top;\n",
       "    }\n",
       "\n",
       "    .dataframe thead th {\n",
       "        text-align: right;\n",
       "    }\n",
       "</style>\n",
       "<table border=\"1\" class=\"dataframe\">\n",
       "  <thead>\n",
       "    <tr style=\"text-align: right;\">\n",
       "      <th></th>\n",
       "      <th>CRIM</th>\n",
       "      <th>ZN</th>\n",
       "      <th>INDUS</th>\n",
       "      <th>CHAS</th>\n",
       "      <th>NOX</th>\n",
       "      <th>RM</th>\n",
       "      <th>AGE</th>\n",
       "      <th>DIS</th>\n",
       "      <th>RAD</th>\n",
       "      <th>TAX</th>\n",
       "      <th>PTRATIO</th>\n",
       "      <th>B</th>\n",
       "      <th>LSTAT</th>\n",
       "      <th>MEDV</th>\n",
       "      <th>outlier</th>\n",
       "      <th>CLUSTER</th>\n",
       "    </tr>\n",
       "  </thead>\n",
       "  <tbody>\n",
       "    <tr>\n",
       "      <th>0</th>\n",
       "      <td>0.00632</td>\n",
       "      <td>18.0</td>\n",
       "      <td>2.31</td>\n",
       "      <td>0</td>\n",
       "      <td>0.538</td>\n",
       "      <td>6.575</td>\n",
       "      <td>0.641607</td>\n",
       "      <td>4.0900</td>\n",
       "      <td>1</td>\n",
       "      <td>296.0</td>\n",
       "      <td>15.3</td>\n",
       "      <td>396.90</td>\n",
       "      <td>4.98</td>\n",
       "      <td>0.422222</td>\n",
       "      <td>1</td>\n",
       "      <td>0</td>\n",
       "    </tr>\n",
       "    <tr>\n",
       "      <th>1</th>\n",
       "      <td>0.02731</td>\n",
       "      <td>0.0</td>\n",
       "      <td>7.07</td>\n",
       "      <td>0</td>\n",
       "      <td>0.469</td>\n",
       "      <td>6.421</td>\n",
       "      <td>0.782698</td>\n",
       "      <td>4.9671</td>\n",
       "      <td>2</td>\n",
       "      <td>242.0</td>\n",
       "      <td>17.8</td>\n",
       "      <td>396.90</td>\n",
       "      <td>9.14</td>\n",
       "      <td>0.368889</td>\n",
       "      <td>1</td>\n",
       "      <td>2</td>\n",
       "    </tr>\n",
       "    <tr>\n",
       "      <th>2</th>\n",
       "      <td>0.02729</td>\n",
       "      <td>0.0</td>\n",
       "      <td>7.07</td>\n",
       "      <td>0</td>\n",
       "      <td>0.469</td>\n",
       "      <td>7.185</td>\n",
       "      <td>0.599382</td>\n",
       "      <td>4.9671</td>\n",
       "      <td>2</td>\n",
       "      <td>242.0</td>\n",
       "      <td>17.8</td>\n",
       "      <td>392.83</td>\n",
       "      <td>4.03</td>\n",
       "      <td>0.660000</td>\n",
       "      <td>1</td>\n",
       "      <td>0</td>\n",
       "    </tr>\n",
       "    <tr>\n",
       "      <th>3</th>\n",
       "      <td>0.03237</td>\n",
       "      <td>0.0</td>\n",
       "      <td>2.18</td>\n",
       "      <td>0</td>\n",
       "      <td>0.458</td>\n",
       "      <td>6.998</td>\n",
       "      <td>0.441813</td>\n",
       "      <td>6.0622</td>\n",
       "      <td>3</td>\n",
       "      <td>222.0</td>\n",
       "      <td>18.7</td>\n",
       "      <td>394.63</td>\n",
       "      <td>2.94</td>\n",
       "      <td>0.631111</td>\n",
       "      <td>1</td>\n",
       "      <td>0</td>\n",
       "    </tr>\n",
       "    <tr>\n",
       "      <th>4</th>\n",
       "      <td>0.06905</td>\n",
       "      <td>0.0</td>\n",
       "      <td>2.18</td>\n",
       "      <td>0</td>\n",
       "      <td>0.458</td>\n",
       "      <td>7.147</td>\n",
       "      <td>0.528321</td>\n",
       "      <td>6.0622</td>\n",
       "      <td>3</td>\n",
       "      <td>222.0</td>\n",
       "      <td>18.7</td>\n",
       "      <td>396.90</td>\n",
       "      <td>5.33</td>\n",
       "      <td>0.693333</td>\n",
       "      <td>1</td>\n",
       "      <td>0</td>\n",
       "    </tr>\n",
       "  </tbody>\n",
       "</table>\n",
       "</div>"
      ],
      "text/plain": [
       "      CRIM    ZN  INDUS  CHAS    NOX     RM       AGE     DIS  RAD    TAX  \\\n",
       "0  0.00632  18.0   2.31     0  0.538  6.575  0.641607  4.0900    1  296.0   \n",
       "1  0.02731   0.0   7.07     0  0.469  6.421  0.782698  4.9671    2  242.0   \n",
       "2  0.02729   0.0   7.07     0  0.469  7.185  0.599382  4.9671    2  242.0   \n",
       "3  0.03237   0.0   2.18     0  0.458  6.998  0.441813  6.0622    3  222.0   \n",
       "4  0.06905   0.0   2.18     0  0.458  7.147  0.528321  6.0622    3  222.0   \n",
       "\n",
       "   PTRATIO       B  LSTAT      MEDV  outlier  CLUSTER  \n",
       "0     15.3  396.90   4.98  0.422222        1        0  \n",
       "1     17.8  396.90   9.14  0.368889        1        2  \n",
       "2     17.8  392.83   4.03  0.660000        1        0  \n",
       "3     18.7  394.63   2.94  0.631111        1        0  \n",
       "4     18.7  396.90   5.33  0.693333        1        0  "
      ]
     },
     "execution_count": 62,
     "metadata": {},
     "output_type": "execute_result"
    }
   ],
   "source": [
    "house_data.head()"
   ]
  },
  {
   "cell_type": "code",
   "execution_count": 63,
   "id": "eaad30b5",
   "metadata": {},
   "outputs": [
    {
     "data": {
      "text/plain": [
       "<matplotlib.collections.PathCollection at 0x29253ab7820>"
      ]
     },
     "execution_count": 63,
     "metadata": {},
     "output_type": "execute_result"
    },
    {
     "data": {
      "image/png": "[encoded data removed]",
      "text/plain": [
       "<Figure size 432x288 with 1 Axes>"
      ]
     },
     "metadata": {
      "needs_background": "light"
     },
     "output_type": "display_data"
    }
   ],
   "source": [
    "plt.scatter(house_data['MEDV'], house_data['AGE'])"
   ]
  },
  {
   "cell_type": "code",
   "execution_count": 64,
   "id": "e9e5f984",
   "metadata": {},
   "outputs": [
    {
     "data": {
      "text/plain": [
       "array([1, 1, 0, 2, 0, 2, 1, 1, 1, 1, 1, 1, 2, 1, 1, 2, 2, 1, 2, 1, 1, 1,\n",
       "       1, 1, 1, 1, 1, 1, 1, 1, 1, 1, 1, 1, 1, 1, 1, 2, 2, 2, 2, 2, 2, 2,\n",
       "       2, 2, 2, 1, 1, 1, 2, 1, 2, 2, 2, 2, 2, 2, 2, 2, 1, 1, 1, 2, 0, 2,\n",
       "       2, 2, 2, 2, 2, 2, 2, 2, 2, 2, 1, 2, 2, 2, 2, 1, 2, 2, 2, 2, 2, 2,\n",
       "       1, 0, 1, 1, 2, 2, 1, 2, 1, 0, 0, 0, 1, 1, 1, 1, 1, 1, 1, 1, 1, 1,\n",
       "       2, 1, 1, 1, 1, 1, 1, 1, 1, 1, 1, 1, 1, 1, 1, 1, 1, 1, 1, 1, 1, 1,\n",
       "       1, 1, 1, 1, 1, 1, 1, 1, 1, 1, 1, 1, 1, 1, 1, 1, 1, 1, 1, 1, 1, 1,\n",
       "       1, 1, 1, 0, 1, 1, 1, 0, 0, 0, 1, 1, 0, 1, 1, 1, 1, 1, 1, 1, 1, 2,\n",
       "       2, 1, 0, 0, 0, 0, 0, 0, 1, 0, 0, 2, 2, 2, 2, 2, 2, 2, 2, 0, 2, 2,\n",
       "       2, 2, 2, 2, 2, 0, 0, 2, 2, 1, 2, 1, 1, 1, 2, 2, 2, 2, 2, 1, 1, 1,\n",
       "       1, 1, 1, 0, 0, 0, 0, 0, 2, 2, 1, 0, 0, 0, 0, 2, 1, 0, 2, 2, 2, 1,\n",
       "       2, 2, 1, 1, 2, 1, 2, 2, 2, 2, 2, 2, 2, 2, 0, 0, 0, 1, 0, 0, 0, 0,\n",
       "       0, 1, 0, 0, 0, 1, 2, 2, 2, 0, 2, 2, 2, 2, 2, 2, 0, 2, 0, 0, 2, 2,\n",
       "       2, 2, 2, 2, 2, 2, 2, 2, 2, 2, 2, 2, 2, 2, 2, 2, 2, 2, 2, 2, 0, 0,\n",
       "       1, 1, 2, 2, 1, 1, 1, 1, 1, 1, 1, 2, 2, 2, 2, 1, 2, 2, 2, 2, 2, 2,\n",
       "       2, 2, 2, 2, 2, 2, 2, 1, 2, 2, 2, 2, 1, 2, 2, 2, 2, 2, 2, 2, 2, 2,\n",
       "       2, 2, 2, 2, 1, 1, 1, 1, 1, 1, 1, 1, 1, 1, 1, 1, 0, 0, 0, 0, 0, 1,\n",
       "       1, 1, 1, 1, 1, 1, 1, 1, 1, 1, 1, 1, 1, 1, 1, 1, 1, 1, 1, 1, 1, 1,\n",
       "       1, 1, 1, 1, 1, 1, 1, 1, 1, 1, 1, 1, 1, 1, 1, 1, 1, 1, 1, 1, 1, 1,\n",
       "       1, 1, 1, 1, 1, 1, 1, 1, 1, 1, 1, 1, 1, 1, 1, 1, 1, 1, 1, 1, 1, 1,\n",
       "       1, 1, 1, 1, 1, 1, 1, 1, 1, 1, 1, 1, 1, 1, 1, 1, 1, 1, 1, 1, 1, 1,\n",
       "       1, 1, 1, 2, 1, 1, 1, 2, 1, 1, 1, 0, 1, 1, 1, 1, 1, 1, 1, 1, 1, 2,\n",
       "       2, 2, 1, 2, 1, 1, 1, 1, 1, 2, 2, 2, 1, 1, 1, 1, 1, 1, 1, 1, 1, 1])"
      ]
     },
     "execution_count": 64,
     "metadata": {},
     "output_type": "execute_result"
    }
   ],
   "source": [
    "# run K-means algorithm again after preprocessing\n",
    "km = KMeans(n_clusters=3)\n",
    "y_predicted = km.fit_predict(house_data[['MEDV','AGE']])\n",
    "y_predicted"
   ]
  },
  {
   "cell_type": "code",
   "execution_count": 65,
   "id": "b0df1af4",
   "metadata": {},
   "outputs": [
    {
     "data": {
      "text/html": [
       "<div>\n",
       "<style scoped>\n",
       "    .dataframe tbody tr th:only-of-type {\n",
       "        vertical-align: middle;\n",
       "    }\n",
       "\n",
       "    .dataframe tbody tr th {\n",
       "        vertical-align: top;\n",
       "    }\n",
       "\n",
       "    .dataframe thead th {\n",
       "        text-align: right;\n",
       "    }\n",
       "</style>\n",
       "<table border=\"1\" class=\"dataframe\">\n",
       "  <thead>\n",
       "    <tr style=\"text-align: right;\">\n",
       "      <th></th>\n",
       "      <th>CRIM</th>\n",
       "      <th>ZN</th>\n",
       "      <th>INDUS</th>\n",
       "      <th>CHAS</th>\n",
       "      <th>NOX</th>\n",
       "      <th>RM</th>\n",
       "      <th>AGE</th>\n",
       "      <th>DIS</th>\n",
       "      <th>RAD</th>\n",
       "      <th>TAX</th>\n",
       "      <th>PTRATIO</th>\n",
       "      <th>B</th>\n",
       "      <th>LSTAT</th>\n",
       "      <th>MEDV</th>\n",
       "      <th>outlier</th>\n",
       "      <th>CLUSTER</th>\n",
       "    </tr>\n",
       "  </thead>\n",
       "  <tbody>\n",
       "    <tr>\n",
       "      <th>0</th>\n",
       "      <td>0.00632</td>\n",
       "      <td>18.0</td>\n",
       "      <td>2.31</td>\n",
       "      <td>0</td>\n",
       "      <td>0.538</td>\n",
       "      <td>6.575</td>\n",
       "      <td>0.641607</td>\n",
       "      <td>4.0900</td>\n",
       "      <td>1</td>\n",
       "      <td>296.0</td>\n",
       "      <td>15.3</td>\n",
       "      <td>396.90</td>\n",
       "      <td>4.98</td>\n",
       "      <td>0.422222</td>\n",
       "      <td>1</td>\n",
       "      <td>1</td>\n",
       "    </tr>\n",
       "    <tr>\n",
       "      <th>1</th>\n",
       "      <td>0.02731</td>\n",
       "      <td>0.0</td>\n",
       "      <td>7.07</td>\n",
       "      <td>0</td>\n",
       "      <td>0.469</td>\n",
       "      <td>6.421</td>\n",
       "      <td>0.782698</td>\n",
       "      <td>4.9671</td>\n",
       "      <td>2</td>\n",
       "      <td>242.0</td>\n",
       "      <td>17.8</td>\n",
       "      <td>396.90</td>\n",
       "      <td>9.14</td>\n",
       "      <td>0.368889</td>\n",
       "      <td>1</td>\n",
       "      <td>1</td>\n",
       "    </tr>\n",
       "    <tr>\n",
       "      <th>2</th>\n",
       "      <td>0.02729</td>\n",
       "      <td>0.0</td>\n",
       "      <td>7.07</td>\n",
       "      <td>0</td>\n",
       "      <td>0.469</td>\n",
       "      <td>7.185</td>\n",
       "      <td>0.599382</td>\n",
       "      <td>4.9671</td>\n",
       "      <td>2</td>\n",
       "      <td>242.0</td>\n",
       "      <td>17.8</td>\n",
       "      <td>392.83</td>\n",
       "      <td>4.03</td>\n",
       "      <td>0.660000</td>\n",
       "      <td>1</td>\n",
       "      <td>0</td>\n",
       "    </tr>\n",
       "    <tr>\n",
       "      <th>3</th>\n",
       "      <td>0.03237</td>\n",
       "      <td>0.0</td>\n",
       "      <td>2.18</td>\n",
       "      <td>0</td>\n",
       "      <td>0.458</td>\n",
       "      <td>6.998</td>\n",
       "      <td>0.441813</td>\n",
       "      <td>6.0622</td>\n",
       "      <td>3</td>\n",
       "      <td>222.0</td>\n",
       "      <td>18.7</td>\n",
       "      <td>394.63</td>\n",
       "      <td>2.94</td>\n",
       "      <td>0.631111</td>\n",
       "      <td>1</td>\n",
       "      <td>2</td>\n",
       "    </tr>\n",
       "    <tr>\n",
       "      <th>4</th>\n",
       "      <td>0.06905</td>\n",
       "      <td>0.0</td>\n",
       "      <td>2.18</td>\n",
       "      <td>0</td>\n",
       "      <td>0.458</td>\n",
       "      <td>7.147</td>\n",
       "      <td>0.528321</td>\n",
       "      <td>6.0622</td>\n",
       "      <td>3</td>\n",
       "      <td>222.0</td>\n",
       "      <td>18.7</td>\n",
       "      <td>396.90</td>\n",
       "      <td>5.33</td>\n",
       "      <td>0.693333</td>\n",
       "      <td>1</td>\n",
       "      <td>0</td>\n",
       "    </tr>\n",
       "  </tbody>\n",
       "</table>\n",
       "</div>"
      ],
      "text/plain": [
       "      CRIM    ZN  INDUS  CHAS    NOX     RM       AGE     DIS  RAD    TAX  \\\n",
       "0  0.00632  18.0   2.31     0  0.538  6.575  0.641607  4.0900    1  296.0   \n",
       "1  0.02731   0.0   7.07     0  0.469  6.421  0.782698  4.9671    2  242.0   \n",
       "2  0.02729   0.0   7.07     0  0.469  7.185  0.599382  4.9671    2  242.0   \n",
       "3  0.03237   0.0   2.18     0  0.458  6.998  0.441813  6.0622    3  222.0   \n",
       "4  0.06905   0.0   2.18     0  0.458  7.147  0.528321  6.0622    3  222.0   \n",
       "\n",
       "   PTRATIO       B  LSTAT      MEDV  outlier  CLUSTER  \n",
       "0     15.3  396.90   4.98  0.422222        1        1  \n",
       "1     17.8  396.90   9.14  0.368889        1        1  \n",
       "2     17.8  392.83   4.03  0.660000        1        0  \n",
       "3     18.7  394.63   2.94  0.631111        1        2  \n",
       "4     18.7  396.90   5.33  0.693333        1        0  "
      ]
     },
     "execution_count": 65,
     "metadata": {},
     "output_type": "execute_result"
    }
   ],
   "source": [
    "house_data['CLUSTER'] = y_predicted\n",
    "house_data.head()"
   ]
  },
  {
   "cell_type": "code",
   "execution_count": 66,
   "id": "2a734b8e",
   "metadata": {},
   "outputs": [
    {
     "data": {
      "text/plain": [
       "array([[0.79083333, 0.72436369],\n",
       "       [0.2737381 , 0.87927394],\n",
       "       [0.44831373, 0.3263464 ]])"
      ]
     },
     "execution_count": 66,
     "metadata": {},
     "output_type": "execute_result"
    }
   ],
   "source": [
    "# Plot cernters after preproocessing\n",
    "km.cluster_centers_"
   ]
  },
  {
   "cell_type": "code",
   "execution_count": 67,
   "id": "dfd12121",
   "metadata": {},
   "outputs": [
    {
     "data": {
      "text/plain": [
       "<matplotlib.legend.Legend at 0x29253dcb7f0>"
      ]
     },
     "execution_count": 67,
     "metadata": {},
     "output_type": "execute_result"
    },
    {
     "data": {
      "image/png": "[encoded data removed]",
      "text/plain": [
       "<Figure size 432x288 with 1 Axes>"
      ]
     },
     "metadata": {
      "needs_background": "light"
     },
     "output_type": "display_data"
    }
   ],
   "source": [
    "df1 = house_data[house_data.CLUSTER==0]\n",
    "df2 = house_data[house_data.CLUSTER==1]\n",
    "df3 = house_data[house_data.CLUSTER==2]\n",
    "\n",
    "plt.scatter(df1.MEDV,df1['AGE'], color='green')\n",
    "plt.scatter(df2.MEDV,df2['AGE'], color='red')\n",
    "plt.scatter(df3.MEDV,df3['AGE'], color='black')\n",
    "\n",
    "plt.scatter(km.cluster_centers_[:,0], km.cluster_centers_[:,1], color='purple', marker='*', label='centroid')\n",
    "plt.legend()"
   ]
  },
  {
   "cell_type": "markdown",
   "id": "06c8891a",
   "metadata": {},
   "source": [
    "# silhouette_score"
   ]
  },
  {
   "cell_type": "code",
   "execution_count": 68,
   "id": "f6074d64",
   "metadata": {},
   "outputs": [
    {
     "name": "stdout",
     "output_type": "stream",
     "text": [
      "Score of k-means =  0.547868415968652\n"
     ]
    }
   ],
   "source": [
    "data_XX = house_data.iloc[:,[6,13]].values\n",
    "labels_km = km.labels_\n",
    "score_km = metrics.silhouette_score(data_XX,labels_km)\n",
    "print(\"Score of k-means = \", score_km)"
   ]
  },
  {
   "cell_type": "code",
   "execution_count": 69,
   "id": "8e2d3a73",
   "metadata": {},
   "outputs": [
    {
     "name": "stderr",
     "output_type": "stream",
     "text": [
      "C:\\Users\\user\\anaconda3\\lib\\site-packages\\sklearn\\cluster\\_kmeans.py:1036: UserWarning: KMeans is known to have a memory leak on Windows with MKL, when there are less chunks than available threads. You can avoid it by setting the environment variable OMP_NUM_THREADS=2.\n",
      "  warnings.warn(\n"
     ]
    },
    {
     "data": {
      "text/plain": [
       "[63.53438953567569,\n",
       " 27.032968393232913,\n",
       " 17.6898935313976,\n",
       " 12.724639459729417,\n",
       " 10.226302381920348,\n",
       " 8.009993915792968,\n",
       " 6.805188019289371,\n",
       " 6.017389009409534,\n",
       " 5.242260162460232]"
      ]
     },
     "execution_count": 69,
     "metadata": {},
     "output_type": "execute_result"
    }
   ],
   "source": [
    "sse = []\n",
    "k_range = range(1,10)\n",
    "for k in k_range:\n",
    "    km = KMeans(n_clusters=k)\n",
    "    km.fit(house_data[['MEDV','AGE']])\n",
    "    sse.append(km.inertia_)\n",
    "sse"
   ]
  },
  {
   "cell_type": "code",
   "execution_count": 70,
   "id": "fe426285",
   "metadata": {},
   "outputs": [
    {
     "data": {
      "text/plain": [
       "[<matplotlib.lines.Line2D at 0x29253e889d0>]"
      ]
     },
     "execution_count": 70,
     "metadata": {},
     "output_type": "execute_result"
    },
    {
     "data": {
      "image/png": "[encoded data removed]",
      "text/plain": [
       "<Figure size 432x288 with 1 Axes>"
      ]
     },
     "metadata": {
      "needs_background": "light"
     },
     "output_type": "display_data"
    }
   ],
   "source": [
    "# plot the result of sse\n",
    "plt.xlabel('K')\n",
    "plt.ylabel('Sum of squared error')\n",
    "plt.plot(k_range,sse)"
   ]
  },
  {
   "cell_type": "markdown",
   "id": "f66c1590",
   "metadata": {},
   "source": [
    "# DBSCAN"
   ]
  },
  {
   "cell_type": "code",
   "execution_count": 71,
   "id": "327b2a32",
   "metadata": {},
   "outputs": [
    {
     "data": {
      "text/plain": [
       "array([[4.09      , 0.42222222],\n",
       "       [4.9671    , 0.36888889],\n",
       "       [4.9671    , 0.66      ],\n",
       "       ...,\n",
       "       [2.1675    , 0.42      ],\n",
       "       [2.3889    , 0.37777778],\n",
       "       [2.505     , 0.15333333]])"
      ]
     },
     "execution_count": 71,
     "metadata": {},
     "output_type": "execute_result"
    }
   ],
   "source": [
    "# dbscan clustering\n",
    "from sklearn.cluster import DBSCAN\n",
    "from numpy import unique\n",
    "from numpy import where\n",
    "data_X = house_data.iloc[:,[7,13]].values\n",
    "data_X"
   ]
  },
  {
   "cell_type": "code",
   "execution_count": 72,
   "id": "90d23f5a",
   "metadata": {},
   "outputs": [
    {
     "data": {
      "image/png": "[encoded data removed]",
      "text/plain": [
       "<Figure size 432x288 with 1 Axes>"
      ]
     },
     "metadata": {
      "needs_background": "light"
     },
     "output_type": "display_data"
    }
   ],
   "source": [
    "# define the model\n",
    "model = DBSCAN(eps=0.7, min_samples=90)\n",
    "# fit model and predict clusters\n",
    "y_predicted = model.fit_predict(data_X)\n",
    "# retrieve unique clusters\n",
    "clusters = unique(y_predicted)\n",
    "# create scatter plot for samples from each cluster\n",
    "for cluster in clusters:\n",
    "    # get row indexes for samples with this cluster\n",
    "    row_ix = where(y_predicted == cluster)\n",
    "    # create scatter of these samples\n",
    "    plt.scatter(data_X[row_ix, 0], data_X[row_ix, 1])\n",
    "# show the plot\n",
    "plt.show()"
   ]
  },
  {
   "cell_type": "markdown",
   "id": "0258ed04",
   "metadata": {},
   "source": [
    "# silhouette_score"
   ]
  },
  {
   "cell_type": "code",
   "execution_count": 73,
   "id": "e5757dc5",
   "metadata": {},
   "outputs": [
    {
     "name": "stdout",
     "output_type": "stream",
     "text": [
      "Score of DBscan =  0.6463133568166873\n"
     ]
    }
   ],
   "source": [
    "labels_db = model.labels_\n",
    "score_db = metrics.silhouette_score(data_X,labels_db)\n",
    "\n",
    "print(\"Score of DBscan = \", score_db)"
   ]
  },
  {
   "cell_type": "markdown",
   "id": "3832228f",
   "metadata": {},
   "source": [
    "# Brich"
   ]
  },
  {
   "cell_type": "code",
   "execution_count": 74,
   "id": "e2504d17",
   "metadata": {},
   "outputs": [
    {
     "name": "stdout",
     "output_type": "stream",
     "text": [
      "Clusters of Birch [0 1 2]\n"
     ]
    },
    {
     "data": {
      "image/png": "[encoded data removed]",
      "text/plain": [
       "<Figure size 432x288 with 1 Axes>"
      ]
     },
     "metadata": {
      "needs_background": "light"
     },
     "output_type": "display_data"
    }
   ],
   "source": [
    "model_br = Birch(threshold=0.01, n_clusters=3)\n",
    "model_br.fit(data_X)\n",
    "yhat_br = model_br.predict(data_X)\n",
    "clusters_br = unique(yhat_br)\n",
    "print(\"Clusters of Birch\",clusters_br)\n",
    "# create scatter plot for samples from each cluster\n",
    "for cluster in clusters_br:\n",
    "    # get row indexes for samples with this cluster\n",
    "    row_ix = where(yhat_br == cluster)\n",
    "    # create scatter of these samples\n",
    "    plt.scatter(data_X[row_ix, 0], data_X[row_ix, 1])\n",
    "# show the plot\n",
    "plt.show()"
   ]
  },
  {
   "cell_type": "markdown",
   "id": "01e5da32",
   "metadata": {},
   "source": [
    "# silhouette_score"
   ]
  },
  {
   "cell_type": "code",
   "execution_count": 75,
   "id": "f5642353",
   "metadata": {},
   "outputs": [
    {
     "name": "stdout",
     "output_type": "stream",
     "text": [
      "Score of Birch =  0.5313091704412856\n"
     ]
    }
   ],
   "source": [
    "score_br = metrics.silhouette_score(data_X,yhat_br)\n",
    "print(\"Score of Birch = \", score_br)"
   ]
  },
  {
   "cell_type": "markdown",
   "id": "c3b3ee4b",
   "metadata": {},
   "source": [
    "# Hirarchical clustering"
   ]
  },
  {
   "cell_type": "code",
   "execution_count": 76,
   "id": "483c5f51",
   "metadata": {},
   "outputs": [
    {
     "data": {
      "image/png": "[encoded data removed]",
      "text/plain": [
       "<Figure size 432x288 with 1 Axes>"
      ]
     },
     "metadata": {
      "needs_background": "light"
     },
     "output_type": "display_data"
    }
   ],
   "source": [
    "import numpy as np\n",
    "import matplotlib.pyplot as plt\n",
    "from scipy.cluster.hierarchy import dendrogram, linkage\n",
    "\n",
    "x = house_data['MEDV']\n",
    "y = house_data['DIS']\n",
    "\n",
    "data = list(zip(x, y))\n",
    "\n",
    "linkage_data = linkage(data, method='ward', metric='euclidean')\n",
    "dendrogram(linkage_data)\n",
    "\n",
    "plt.show()\n"
   ]
  },
  {
   "cell_type": "code",
   "execution_count": 77,
   "id": "9d588142",
   "metadata": {},
   "outputs": [
    {
     "data": {
      "image/png": "[encoded data removed]",
      "text/plain": [
       "<Figure size 432x288 with 1 Axes>"
      ]
     },
     "metadata": {
      "needs_background": "light"
     },
     "output_type": "display_data"
    }
   ],
   "source": [
    "from sklearn.cluster import AgglomerativeClustering\n",
    "data_X = house_data.iloc[:,[7,13]].values\n",
    "hi_cluster=AgglomerativeClustering(n_clusters=3,affinity='euclidean',linkage='ward')\n",
    "hi_cluster.fit_predict(data_X)\n",
    "# retrieve unique clusters\n",
    "clusters = unique(hi_cluster.labels_)\n",
    "# create scatter plot for samples from each cluster\n",
    "for cluster in clusters:\n",
    "\t# get row indexes for samples with this cluster\n",
    "\trow_ix = where(hi_cluster.labels_ == cluster)\n",
    "\t# create scatter of these samples\n",
    "\tplt.scatter(data_X[row_ix, 0], data_X[row_ix, 1])\n",
    "# show the plot\n",
    "plt.show()"
   ]
  },
  {
   "cell_type": "markdown",
   "id": "6f82d46b",
   "metadata": {},
   "source": [
    "# silhouette_score"
   ]
  },
  {
   "cell_type": "code",
   "execution_count": 78,
   "id": "11e332f2",
   "metadata": {},
   "outputs": [
    {
     "name": "stdout",
     "output_type": "stream",
     "text": [
      "Score of Hierarchical clustering =  0.546338683081147\n"
     ]
    }
   ],
   "source": [
    "score_hi = metrics.silhouette_score(data_X,hi_cluster.labels_ )\n",
    "\n",
    "print(\"Score of Hierarchical clustering = \", score_hi)"
   ]
  },
  {
   "cell_type": "code",
   "execution_count": null,
   "id": "6c9c5460",
   "metadata": {},
   "outputs": [],
   "source": []
  }
 ],
 "metadata": {
  "kernelspec": {
   "display_name": "Python 3 (ipykernel)",
   "language": "python",
   "name": "python3"
  },
  "language_info": {
   "codemirror_mode": {
    "name": "ipython",
    "version": 3
   },
   "file_extension": ".py",
   "mimetype": "text/x-python",
   "name": "python",
   "nbconvert_exporter": "python",
   "pygments_lexer": "ipython3",
   "version": "3.9.12"
  }
 },
 "nbformat": 4,
 "nbformat_minor": 5
}
